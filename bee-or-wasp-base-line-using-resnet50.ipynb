{
 "cells": [
  {
   "cell_type": "markdown",
   "metadata": {
    "papermill": {
     "duration": 0.007436,
     "end_time": "2020-09-05T06:13:11.582716",
     "exception": false,
     "start_time": "2020-09-05T06:13:11.575280",
     "status": "completed"
    },
    "tags": []
   },
   "source": [
    "<h1><font size=\"6\">Bee or Wasp?</font></h1>"
   ]
  },
  {
   "cell_type": "markdown",
   "metadata": {
    "papermill": {
     "duration": 0.005554,
     "end_time": "2020-09-05T06:13:11.618860",
     "exception": false,
     "start_time": "2020-09-05T06:13:11.613306",
     "status": "completed"
    },
    "tags": []
   },
   "source": [
    "## Import libraries"
   ]
  },
  {
   "cell_type": "code",
   "execution_count": 3,
   "metadata": {
    "execution": {
     "iopub.execute_input": "2020-09-05T06:13:11.637096Z",
     "iopub.status.busy": "2020-09-05T06:13:11.636351Z",
     "iopub.status.idle": "2020-09-05T06:13:17.173059Z",
     "shell.execute_reply": "2020-09-05T06:13:17.172415Z"
    },
    "papermill": {
     "duration": 5.54835,
     "end_time": "2020-09-05T06:13:17.173178",
     "exception": false,
     "start_time": "2020-09-05T06:13:11.624828",
     "status": "completed"
    },
    "tags": []
   },
   "outputs": [
    {
     "name": "stderr",
     "output_type": "stream",
     "text": [
      "2023-01-23 20:35:22.836798: I tensorflow/core/platform/cpu_feature_guard.cc:193] This TensorFlow binary is optimized with oneAPI Deep Neural Network Library (oneDNN) to use the following CPU instructions in performance-critical operations:  AVX2 FMA\n",
      "To enable them in other operations, rebuild TensorFlow with the appropriate compiler flags.\n",
      "2023-01-23 20:35:22.966558: W tensorflow/compiler/xla/stream_executor/platform/default/dso_loader.cc:64] Could not load dynamic library 'libcudart.so.11.0'; dlerror: libcudart.so.11.0: cannot open shared object file: No such file or directory; LD_LIBRARY_PATH: /home/wanille/pg/heisenboerg/.fintech/lib/python3.10/site-packages/cv2/../../lib64:\n",
      "2023-01-23 20:35:22.966574: I tensorflow/compiler/xla/stream_executor/cuda/cudart_stub.cc:29] Ignore above cudart dlerror if you do not have a GPU set up on your machine.\n",
      "2023-01-23 20:35:23.735934: W tensorflow/compiler/xla/stream_executor/platform/default/dso_loader.cc:64] Could not load dynamic library 'libnvinfer.so.7'; dlerror: libnvinfer.so.7: cannot open shared object file: No such file or directory; LD_LIBRARY_PATH: /home/wanille/pg/heisenboerg/.fintech/lib/python3.10/site-packages/cv2/../../lib64:\n",
      "2023-01-23 20:35:23.735998: W tensorflow/compiler/xla/stream_executor/platform/default/dso_loader.cc:64] Could not load dynamic library 'libnvinfer_plugin.so.7'; dlerror: libnvinfer_plugin.so.7: cannot open shared object file: No such file or directory; LD_LIBRARY_PATH: /home/wanille/pg/heisenboerg/.fintech/lib/python3.10/site-packages/cv2/../../lib64:\n",
      "2023-01-23 20:35:23.736006: W tensorflow/compiler/tf2tensorrt/utils/py_utils.cc:38] TF-TRT Warning: Cannot dlopen some TensorRT libraries. If you would like to use Nvidia GPU with TensorRT, please make sure the missing libraries mentioned above are installed properly.\n"
     ]
    },
    {
     "name": "stdout",
     "output_type": "stream",
     "text": [
      "TensorFlow version: 2.11.0\n"
     ]
    }
   ],
   "source": [
    "import os\n",
    "import gc\n",
    "import math\n",
    "import cv2\n",
    "import numpy as np\n",
    "import pandas as pd\n",
    "import matplotlib.pyplot as plt\n",
    "import tensorflow as tf\n",
    "from tensorflow.keras.layers import *\n",
    "\n",
    "print('TensorFlow version: %s' % tf.__version__)"
   ]
  },
  {
   "cell_type": "markdown",
   "metadata": {
    "papermill": {
     "duration": 0.007106,
     "end_time": "2020-09-05T06:13:17.187002",
     "exception": false,
     "start_time": "2020-09-05T06:13:17.179896",
     "status": "completed"
    },
    "tags": []
   },
   "source": [
    "## set configurations and read metadata"
   ]
  },
  {
   "cell_type": "code",
   "execution_count": 4,
   "metadata": {
    "execution": {
     "iopub.execute_input": "2020-09-05T06:13:17.209772Z",
     "iopub.status.busy": "2020-09-05T06:13:17.209084Z",
     "iopub.status.idle": "2020-09-05T06:13:17.262758Z",
     "shell.execute_reply": "2020-09-05T06:13:17.262226Z"
    },
    "papermill": {
     "duration": 0.069094,
     "end_time": "2020-09-05T06:13:17.262872",
     "exception": false,
     "start_time": "2020-09-05T06:13:17.193778",
     "status": "completed"
    },
    "tags": []
   },
   "outputs": [
    {
     "data": {
      "text/html": [
       "<div>\n",
       "<style scoped>\n",
       "    .dataframe tbody tr th:only-of-type {\n",
       "        vertical-align: middle;\n",
       "    }\n",
       "\n",
       "    .dataframe tbody tr th {\n",
       "        vertical-align: top;\n",
       "    }\n",
       "\n",
       "    .dataframe thead th {\n",
       "        text-align: right;\n",
       "    }\n",
       "</style>\n",
       "<table border=\"1\" class=\"dataframe\">\n",
       "  <thead>\n",
       "    <tr style=\"text-align: right;\">\n",
       "      <th></th>\n",
       "      <th>id</th>\n",
       "      <th>path</th>\n",
       "      <th>is_bee</th>\n",
       "      <th>is_wasp</th>\n",
       "      <th>is_otherinsect</th>\n",
       "      <th>is_other</th>\n",
       "      <th>photo_quality</th>\n",
       "      <th>is_validation</th>\n",
       "      <th>is_final_validation</th>\n",
       "      <th>label</th>\n",
       "    </tr>\n",
       "  </thead>\n",
       "  <tbody>\n",
       "    <tr>\n",
       "      <th>0</th>\n",
       "      <td>1</td>\n",
       "      <td>bee1\\10007154554_026417cfd0_n.jpg</td>\n",
       "      <td>1</td>\n",
       "      <td>0</td>\n",
       "      <td>0</td>\n",
       "      <td>0</td>\n",
       "      <td>1</td>\n",
       "      <td>0</td>\n",
       "      <td>0</td>\n",
       "      <td>bee</td>\n",
       "    </tr>\n",
       "    <tr>\n",
       "      <th>1</th>\n",
       "      <td>2</td>\n",
       "      <td>bee1\\10024864894_6dc54d4b34_n.jpg</td>\n",
       "      <td>1</td>\n",
       "      <td>0</td>\n",
       "      <td>0</td>\n",
       "      <td>0</td>\n",
       "      <td>1</td>\n",
       "      <td>0</td>\n",
       "      <td>1</td>\n",
       "      <td>bee</td>\n",
       "    </tr>\n",
       "    <tr>\n",
       "      <th>2</th>\n",
       "      <td>3</td>\n",
       "      <td>bee1\\10092043833_7306dfd1f0_n.jpg</td>\n",
       "      <td>1</td>\n",
       "      <td>0</td>\n",
       "      <td>0</td>\n",
       "      <td>0</td>\n",
       "      <td>1</td>\n",
       "      <td>1</td>\n",
       "      <td>0</td>\n",
       "      <td>bee</td>\n",
       "    </tr>\n",
       "    <tr>\n",
       "      <th>3</th>\n",
       "      <td>4</td>\n",
       "      <td>bee1\\1011948979_fc3637e779_w.jpg</td>\n",
       "      <td>1</td>\n",
       "      <td>0</td>\n",
       "      <td>0</td>\n",
       "      <td>0</td>\n",
       "      <td>1</td>\n",
       "      <td>0</td>\n",
       "      <td>1</td>\n",
       "      <td>bee</td>\n",
       "    </tr>\n",
       "    <tr>\n",
       "      <th>4</th>\n",
       "      <td>5</td>\n",
       "      <td>bee1\\10128235063_dca17db76c_n.jpg</td>\n",
       "      <td>1</td>\n",
       "      <td>0</td>\n",
       "      <td>0</td>\n",
       "      <td>0</td>\n",
       "      <td>1</td>\n",
       "      <td>0</td>\n",
       "      <td>0</td>\n",
       "      <td>bee</td>\n",
       "    </tr>\n",
       "  </tbody>\n",
       "</table>\n",
       "</div>"
      ],
      "text/plain": [
       "   id                               path  is_bee  is_wasp  is_otherinsect  \\\n",
       "0   1  bee1\\10007154554_026417cfd0_n.jpg       1        0               0   \n",
       "1   2  bee1\\10024864894_6dc54d4b34_n.jpg       1        0               0   \n",
       "2   3  bee1\\10092043833_7306dfd1f0_n.jpg       1        0               0   \n",
       "3   4   bee1\\1011948979_fc3637e779_w.jpg       1        0               0   \n",
       "4   5  bee1\\10128235063_dca17db76c_n.jpg       1        0               0   \n",
       "\n",
       "   is_other  photo_quality  is_validation  is_final_validation label  \n",
       "0         0              1              0                    0   bee  \n",
       "1         0              1              0                    1   bee  \n",
       "2         0              1              1                    0   bee  \n",
       "3         0              1              0                    1   bee  \n",
       "4         0              1              0                    0   bee  "
      ]
     },
     "execution_count": 4,
     "metadata": {},
     "output_type": "execute_result"
    }
   ],
   "source": [
    "ROOT = './kaggle_bee_vs_wasp/'\n",
    "SEED = 42\n",
    "EPOCHS = 50\n",
    "BATCH_SIZE = 32\n",
    "IMG_SIZE = 256\n",
    "\n",
    "\n",
    "df = pd.read_csv(ROOT+'labels.csv')\n",
    "df.head()"
   ]
  },
  {
   "cell_type": "code",
   "execution_count": 5,
   "metadata": {
    "execution": {
     "iopub.execute_input": "2020-09-05T06:13:17.282262Z",
     "iopub.status.busy": "2020-09-05T06:13:17.281511Z",
     "iopub.status.idle": "2020-09-05T06:13:17.284599Z",
     "shell.execute_reply": "2020-09-05T06:13:17.284025Z"
    },
    "papermill": {
     "duration": 0.014903,
     "end_time": "2020-09-05T06:13:17.284713",
     "exception": false,
     "start_time": "2020-09-05T06:13:17.269810",
     "status": "completed"
    },
    "tags": []
   },
   "outputs": [],
   "source": [
    "def seed_everything(seed):\n",
    "    np.random.seed(seed)\n",
    "    os.environ['PYTHONHASHSEED'] = str(seed)\n",
    "    tf.random.set_seed(seed)\n",
    "\n",
    "seed_everything(SEED)"
   ]
  },
  {
   "cell_type": "markdown",
   "metadata": {
    "papermill": {
     "duration": 0.005995,
     "end_time": "2020-09-05T06:13:17.297155",
     "exception": false,
     "start_time": "2020-09-05T06:13:17.291160",
     "status": "completed"
    },
    "tags": []
   },
   "source": [
    "## Preprocess and plot\n",
    "\n",
    "Check the dataset and preprocess it."
   ]
  },
  {
   "cell_type": "code",
   "execution_count": 6,
   "metadata": {
    "execution": {
     "iopub.execute_input": "2020-09-05T06:13:17.314941Z",
     "iopub.status.busy": "2020-09-05T06:13:17.314306Z",
     "iopub.status.idle": "2020-09-05T06:13:25.502695Z",
     "shell.execute_reply": "2020-09-05T06:13:25.501712Z"
    },
    "papermill": {
     "duration": 8.199358,
     "end_time": "2020-09-05T06:13:25.502804",
     "exception": false,
     "start_time": "2020-09-05T06:13:17.303446",
     "status": "completed"
    },
    "tags": []
   },
   "outputs": [
    {
     "data": {
      "text/html": [
       "<div>\n",
       "<style scoped>\n",
       "    .dataframe tbody tr th:only-of-type {\n",
       "        vertical-align: middle;\n",
       "    }\n",
       "\n",
       "    .dataframe tbody tr th {\n",
       "        vertical-align: top;\n",
       "    }\n",
       "\n",
       "    .dataframe thead th {\n",
       "        text-align: right;\n",
       "    }\n",
       "</style>\n",
       "<table border=\"1\" class=\"dataframe\">\n",
       "  <thead>\n",
       "    <tr style=\"text-align: right;\">\n",
       "      <th></th>\n",
       "      <th>id</th>\n",
       "      <th>path</th>\n",
       "      <th>is_bee</th>\n",
       "      <th>is_wasp</th>\n",
       "      <th>is_otherinsect</th>\n",
       "      <th>is_other</th>\n",
       "      <th>photo_quality</th>\n",
       "      <th>is_validation</th>\n",
       "      <th>is_final_validation</th>\n",
       "      <th>label</th>\n",
       "    </tr>\n",
       "  </thead>\n",
       "  <tbody>\n",
       "    <tr>\n",
       "      <th>0</th>\n",
       "      <td>1</td>\n",
       "      <td>bee1/10007154554_026417cfd0_n.jpg</td>\n",
       "      <td>1</td>\n",
       "      <td>0</td>\n",
       "      <td>0</td>\n",
       "      <td>0</td>\n",
       "      <td>1</td>\n",
       "      <td>0</td>\n",
       "      <td>0</td>\n",
       "      <td>bee</td>\n",
       "    </tr>\n",
       "    <tr>\n",
       "      <th>1</th>\n",
       "      <td>2</td>\n",
       "      <td>bee1/10024864894_6dc54d4b34_n.jpg</td>\n",
       "      <td>1</td>\n",
       "      <td>0</td>\n",
       "      <td>0</td>\n",
       "      <td>0</td>\n",
       "      <td>1</td>\n",
       "      <td>0</td>\n",
       "      <td>1</td>\n",
       "      <td>bee</td>\n",
       "    </tr>\n",
       "    <tr>\n",
       "      <th>2</th>\n",
       "      <td>3</td>\n",
       "      <td>bee1/10092043833_7306dfd1f0_n.jpg</td>\n",
       "      <td>1</td>\n",
       "      <td>0</td>\n",
       "      <td>0</td>\n",
       "      <td>0</td>\n",
       "      <td>1</td>\n",
       "      <td>1</td>\n",
       "      <td>0</td>\n",
       "      <td>bee</td>\n",
       "    </tr>\n",
       "    <tr>\n",
       "      <th>3</th>\n",
       "      <td>4</td>\n",
       "      <td>bee1/1011948979_fc3637e779_w.jpg</td>\n",
       "      <td>1</td>\n",
       "      <td>0</td>\n",
       "      <td>0</td>\n",
       "      <td>0</td>\n",
       "      <td>1</td>\n",
       "      <td>0</td>\n",
       "      <td>1</td>\n",
       "      <td>bee</td>\n",
       "    </tr>\n",
       "    <tr>\n",
       "      <th>4</th>\n",
       "      <td>5</td>\n",
       "      <td>bee1/10128235063_dca17db76c_n.jpg</td>\n",
       "      <td>1</td>\n",
       "      <td>0</td>\n",
       "      <td>0</td>\n",
       "      <td>0</td>\n",
       "      <td>1</td>\n",
       "      <td>0</td>\n",
       "      <td>0</td>\n",
       "      <td>bee</td>\n",
       "    </tr>\n",
       "  </tbody>\n",
       "</table>\n",
       "</div>"
      ],
      "text/plain": [
       "   id                               path  is_bee  is_wasp  is_otherinsect  \\\n",
       "0   1  bee1/10007154554_026417cfd0_n.jpg       1        0               0   \n",
       "1   2  bee1/10024864894_6dc54d4b34_n.jpg       1        0               0   \n",
       "2   3  bee1/10092043833_7306dfd1f0_n.jpg       1        0               0   \n",
       "3   4   bee1/1011948979_fc3637e779_w.jpg       1        0               0   \n",
       "4   5  bee1/10128235063_dca17db76c_n.jpg       1        0               0   \n",
       "\n",
       "   is_other  photo_quality  is_validation  is_final_validation label  \n",
       "0         0              1              0                    0   bee  \n",
       "1         0              1              0                    1   bee  \n",
       "2         0              1              1                    0   bee  \n",
       "3         0              1              0                    1   bee  \n",
       "4         0              1              0                    0   bee  "
      ]
     },
     "execution_count": 6,
     "metadata": {},
     "output_type": "execute_result"
    }
   ],
   "source": [
    "for idx in df.index:    \n",
    "    df.loc[idx,'path']=df.loc[idx,'path'].replace('\\\\', '/') \n",
    "    \n",
    "df.head()"
   ]
  },
  {
   "cell_type": "code",
   "execution_count": 7,
   "metadata": {
    "_kg_hide-input": true,
    "execution": {
     "iopub.execute_input": "2020-09-05T06:13:25.538804Z",
     "iopub.status.busy": "2020-09-05T06:13:25.538023Z",
     "iopub.status.idle": "2020-09-05T06:13:25.650414Z",
     "shell.execute_reply": "2020-09-05T06:13:25.650955Z"
    },
    "papermill": {
     "duration": 0.136109,
     "end_time": "2020-09-05T06:13:25.651084",
     "exception": false,
     "start_time": "2020-09-05T06:13:25.514975",
     "status": "completed"
    },
    "tags": []
   },
   "outputs": [
    {
     "data": {
      "image/png": "[encoded data removed]",
      "text/plain": [
       "<Figure size 640x480 with 1 Axes>"
      ]
     },
     "metadata": {},
     "output_type": "display_data"
    }
   ],
   "source": [
    "labels = list(df['label'].unique())\n",
    "y = list(df['label'].value_counts())\n",
    "plt.pie(y, labels=labels, autopct='%1.1f%%', startangle=90)\n",
    "plt.title('Unique values of the original data')\n",
    "plt.show()"
   ]
  },
  {
   "cell_type": "code",
   "execution_count": 8,
   "metadata": {
    "_kg_hide-input": true,
    "execution": {
     "iopub.execute_input": "2020-09-05T06:13:25.680325Z",
     "iopub.status.busy": "2020-09-05T06:13:25.679459Z",
     "iopub.status.idle": "2020-09-05T06:13:25.796873Z",
     "shell.execute_reply": "2020-09-05T06:13:25.797351Z"
    },
    "papermill": {
     "duration": 0.135104,
     "end_time": "2020-09-05T06:13:25.797495",
     "exception": false,
     "start_time": "2020-09-05T06:13:25.662391",
     "status": "completed"
    },
    "tags": []
   },
   "outputs": [
    {
     "data": {
      "image/png": "[encoded data removed]",
      "text/plain": [
       "<Figure size 640x480 with 1 Axes>"
      ]
     },
     "metadata": {},
     "output_type": "display_data"
    }
   ],
   "source": [
    "labels = list(df['photo_quality'].unique())\n",
    "x = range(0, 2)\n",
    "y = list(df['photo_quality'].value_counts())\n",
    "plt.bar(x, y, tick_label=labels)\n",
    "plt.title('High quality photos in original data')\n",
    "\n",
    "plt.show()"
   ]
  },
  {
   "cell_type": "code",
   "execution_count": 9,
   "metadata": {
    "execution": {
     "iopub.execute_input": "2020-09-05T06:13:29.812105Z",
     "iopub.status.busy": "2020-09-05T06:13:29.811233Z",
     "iopub.status.idle": "2020-09-05T06:13:29.829040Z",
     "shell.execute_reply": "2020-09-05T06:13:29.830137Z"
    },
    "papermill": {
     "duration": 0.099687,
     "end_time": "2020-09-05T06:13:29.830349",
     "exception": false,
     "start_time": "2020-09-05T06:13:29.730662",
     "status": "completed"
    },
    "tags": []
   },
   "outputs": [
    {
     "data": {
      "text/plain": [
       "bee       2469\n",
       "insect    2439\n",
       "wasp      2127\n",
       "Name: label, dtype: int64"
      ]
     },
     "execution_count": 9,
     "metadata": {},
     "output_type": "execute_result"
    }
   ],
   "source": [
    "# select only high quality photos\n",
    "df = df.query('photo_quality == 1')\n",
    "df['label'].value_counts()"
   ]
  },
  {
   "cell_type": "code",
   "execution_count": 10,
   "metadata": {
    "execution": {
     "iopub.execute_input": "2020-09-05T06:13:29.952589Z",
     "iopub.status.busy": "2020-09-05T06:13:29.948807Z",
     "iopub.status.idle": "2020-09-05T06:13:29.971275Z",
     "shell.execute_reply": "2020-09-05T06:13:29.972256Z"
    },
    "papermill": {
     "duration": 0.090855,
     "end_time": "2020-09-05T06:13:29.972410",
     "exception": false,
     "start_time": "2020-09-05T06:13:29.881555",
     "status": "completed"
    },
    "tags": []
   },
   "outputs": [],
   "source": [
    "train_df = df.query('is_validation == 0 & is_final_validation == 0').reset_index(drop=True)\n",
    "val_df = df.query('is_validation == 1').reset_index(drop=True)\n",
    "test_df = df.query('is_final_validation == 1').reset_index(drop=True)"
   ]
  },
  {
   "cell_type": "markdown",
   "metadata": {
    "papermill": {
     "duration": 0.228663,
     "end_time": "2020-09-05T06:13:30.274708",
     "exception": false,
     "start_time": "2020-09-05T06:13:30.046045",
     "status": "completed"
    },
    "tags": []
   },
   "source": [
    "## Create datasets"
   ]
  },
  {
   "cell_type": "code",
   "execution_count": 12,
   "metadata": {
    "execution": {
     "iopub.execute_input": "2020-09-05T06:13:30.371726Z",
     "iopub.status.busy": "2020-09-05T06:13:30.371005Z",
     "iopub.status.idle": "2020-09-05T06:14:06.509652Z",
     "shell.execute_reply": "2020-09-05T06:14:06.508538Z"
    },
    "papermill": {
     "duration": 36.191674,
     "end_time": "2020-09-05T06:14:06.509777",
     "exception": false,
     "start_time": "2020-09-05T06:13:30.318103",
     "status": "completed"
    },
    "tags": []
   },
   "outputs": [],
   "source": [
    "def create_datasets(df, img_size):\n",
    "    imgs = []\n",
    "    for path in df['path'].to_list():\n",
    "        img = cv2.imread(ROOT+path)\n",
    "        img = cv2.cvtColor(img, cv2.COLOR_BGR2RGB)\n",
    "        img = cv2.resize(img, (img_size,img_size))\n",
    "        imgs.append(img)\n",
    "        \n",
    "    imgs = np.array(imgs, dtype='float32')\n",
    "    imgs = imgs / 255.0\n",
    "    df = pd.get_dummies(df['label'])\n",
    "    return imgs, df\n",
    "\n",
    "\n",
    "train_imgs, train_df = create_datasets(train_df, IMG_SIZE)\n",
    "val_imgs, val_df = create_datasets(val_df, IMG_SIZE)\n",
    "test_imgs, test_df = create_datasets(test_df, IMG_SIZE)"
   ]
  },
  {
   "cell_type": "markdown",
   "metadata": {
    "papermill": {
     "duration": 0.063517,
     "end_time": "2020-09-05T06:14:06.637305",
     "exception": false,
     "start_time": "2020-09-05T06:14:06.573788",
     "status": "completed"
    },
    "tags": []
   },
   "source": [
    "## Build the model"
   ]
  },
  {
   "cell_type": "code",
   "execution_count": 13,
   "metadata": {
    "execution": {
     "iopub.execute_input": "2020-09-05T06:14:06.783280Z",
     "iopub.status.busy": "2020-09-05T06:14:06.782443Z",
     "iopub.status.idle": "2020-09-05T06:14:15.191001Z",
     "shell.execute_reply": "2020-09-05T06:14:15.191623Z"
    },
    "papermill": {
     "duration": 8.489068,
     "end_time": "2020-09-05T06:14:15.191788",
     "exception": false,
     "start_time": "2020-09-05T06:14:06.702720",
     "status": "completed"
    },
    "tags": []
   },
   "outputs": [
    {
     "name": "stderr",
     "output_type": "stream",
     "text": [
      "2023-01-23 20:36:11.647814: W tensorflow/compiler/xla/stream_executor/platform/default/dso_loader.cc:64] Could not load dynamic library 'libcuda.so.1'; dlerror: libcuda.so.1: cannot open shared object file: No such file or directory; LD_LIBRARY_PATH: /home/wanille/pg/heisenboerg/.fintech/lib/python3.10/site-packages/cv2/../../lib64:\n",
      "2023-01-23 20:36:11.647834: W tensorflow/compiler/xla/stream_executor/cuda/cuda_driver.cc:265] failed call to cuInit: UNKNOWN ERROR (303)\n",
      "2023-01-23 20:36:11.647850: I tensorflow/compiler/xla/stream_executor/cuda/cuda_diagnostics.cc:156] kernel driver does not appear to be running on this host (wanille-laptop): /proc/driver/nvidia/version does not exist\n",
      "2023-01-23 20:36:11.648069: I tensorflow/core/platform/cpu_feature_guard.cc:193] This TensorFlow binary is optimized with oneAPI Deep Neural Network Library (oneDNN) to use the following CPU instructions in performance-critical operations:  AVX2 FMA\n",
      "To enable them in other operations, rebuild TensorFlow with the appropriate compiler flags.\n"
     ]
    },
    {
     "name": "stdout",
     "output_type": "stream",
     "text": [
      "Downloading data from https://storage.googleapis.com/tensorflow/keras-applications/resnet/resnet50_weights_tf_dim_ordering_tf_kernels_notop.h5\n",
      "94765736/94765736 [==============================] - 2s 0us/step\n",
      "Model: \"model\"\n",
      "_________________________________________________________________\n",
      " Layer (type)                Output Shape              Param #   \n",
      "=================================================================\n",
      " input_1 (InputLayer)        [(None, 256, 256, 3)]     0         \n",
      "                                                                 \n",
      " resnet50 (Functional)       (None, 8, 8, 2048)        23587712  \n",
      "                                                                 \n",
      " global_average_pooling2d (G  (None, 2048)             0         \n",
      " lobalAveragePooling2D)                                          \n",
      "                                                                 \n",
      " dropout (Dropout)           (None, 2048)              0         \n",
      "                                                                 \n",
      " dense (Dense)               (None, 3)                 6147      \n",
      "                                                                 \n",
      "=================================================================\n",
      "Total params: 23,593,859\n",
      "Trainable params: 23,540,739\n",
      "Non-trainable params: 53,120\n",
      "_________________________________________________________________\n"
     ]
    }
   ],
   "source": [
    "def build_model(img_size, n):\n",
    "    inp = Input(shape=(img_size,img_size,n))\n",
    "    resnet = tf.keras.applications.ResNet50(input_shape=(img_size,img_size,n), \n",
    "                                            weights='imagenet', \n",
    "                                            include_top=False)\n",
    "    x = resnet(inp)\n",
    "    x = GlobalAveragePooling2D()(x)\n",
    "    x = Dropout(0.3)(x)\n",
    "    x = Dense(3, activation='softmax')(x)\n",
    "    model = tf.keras.Model(inputs=inp, outputs=x) \n",
    "    opt = tf.keras.optimizers.SGD(momentum=0.9)\n",
    "    model.compile(optimizer=opt, loss='categorical_crossentropy', metrics=['accuracy'])\n",
    "    return model\n",
    "\n",
    "model = build_model(IMG_SIZE, 3)\n",
    "model.summary()"
   ]
  },
  {
   "cell_type": "code",
   "execution_count": 14,
   "metadata": {
    "execution": {
     "iopub.execute_input": "2020-09-05T06:14:15.350153Z",
     "iopub.status.busy": "2020-09-05T06:14:15.343372Z",
     "iopub.status.idle": "2020-09-05T06:14:15.524657Z",
     "shell.execute_reply": "2020-09-05T06:14:15.525281Z"
    },
    "papermill": {
     "duration": 0.26432,
     "end_time": "2020-09-05T06:14:15.525432",
     "exception": false,
     "start_time": "2020-09-05T06:14:15.261112",
     "status": "completed"
    },
    "tags": []
   },
   "outputs": [
    {
     "data": {
      "image/png": "[encoded data removed]",
      "text/plain": [
       "<Figure size 640x480 with 1 Axes>"
      ]
     },
     "metadata": {},
     "output_type": "display_data"
    },
    {
     "data": {
      "text/plain": [
       "<keras.callbacks.LearningRateScheduler at 0x7f1c4c5f1030>"
      ]
     },
     "execution_count": 14,
     "metadata": {},
     "output_type": "execute_result"
    }
   ],
   "source": [
    "def get_lr_callback(batch_size=32, plot=False):\n",
    "    start_lr = 3e-4\n",
    "    def step_decay(epoch):\n",
    "        drop = 0.5\n",
    "        epochs_drop = 10.0\n",
    "        lr = start_lr * math.pow(drop, math.floor((1+epoch)/epochs_drop))\n",
    "        return lr\n",
    "    \n",
    "    lr_callback = tf.keras.callbacks.LearningRateScheduler(step_decay)\n",
    "    if plot == True:\n",
    "        rng = [i for i in range(EPOCHS)]\n",
    "        y = [step_decay(x) for x in rng]\n",
    "        plt.plot(rng, y)\n",
    "        plt.xlabel('epoch', size=14)\n",
    "        plt.ylabel('learning_rate', size=14)\n",
    "        plt.title('Training Schedule', size=16)\n",
    "        plt.show()\n",
    "        \n",
    "    return lr_callback\n",
    "\n",
    "\n",
    "get_lr_callback(plot=True)"
   ]
  },
  {
   "cell_type": "code",
   "execution_count": 19,
   "metadata": {
    "execution": {
     "iopub.execute_input": "2020-09-05T06:14:15.683986Z",
     "iopub.status.busy": "2020-09-05T06:14:15.683184Z",
     "iopub.status.idle": "2020-09-05T06:25:13.708425Z",
     "shell.execute_reply": "2020-09-05T06:25:13.708921Z"
    },
    "papermill": {
     "duration": 658.107297,
     "end_time": "2020-09-05T06:25:13.709078",
     "exception": false,
     "start_time": "2020-09-05T06:14:15.601781",
     "status": "completed"
    },
    "tags": []
   },
   "outputs": [
    {
     "name": "stdout",
     "output_type": "stream",
     "text": [
      "1/1 [==============================] - 83s 83s/step - loss: 0.7355 - accuracy: 0.6000 - val_loss: 1.3550 - val_accuracy: 0.3001 - lr: 3.0000e-04\n"
     ]
    },
    {
     "data": {
      "image/png": "[encoded data removed]",
      "text/plain": [
       "<Figure size 640x480 with 1 Axes>"
      ]
     },
     "metadata": {},
     "output_type": "display_data"
    },
    {
     "data": {
      "image/png": "[encoded data removed]",
      "text/plain": [
       "<Figure size 640x480 with 1 Axes>"
      ]
     },
     "metadata": {},
     "output_type": "display_data"
    },
    {
     "data": {
      "text/plain": [
       "11376"
      ]
     },
     "execution_count": 19,
     "metadata": {},
     "output_type": "execute_result"
    }
   ],
   "source": [
    "es_callback = tf.keras.callbacks.EarlyStopping(patience=10, \n",
    "                                               verbose=1, \n",
    "                                               restore_best_weights=True)\n",
    "\n",
    "history = model.fit(train_imgs[:10], \n",
    "                    train_df[:10], \n",
    "                    batch_size=BATCH_SIZE, \n",
    "                    epochs=1, \n",
    "                    callbacks=[es_callback, get_lr_callback(BATCH_SIZE)], \n",
    "                    validation_data=(val_imgs, val_df))\n",
    "\n",
    "\n",
    "pd.DataFrame(history.history)[['accuracy', 'val_accuracy']].plot()\n",
    "pd.DataFrame(history.history)[['loss', 'val_loss']].plot()\n",
    "plt.show()\n",
    "\n",
    "gc.collect()"
   ]
  },
  {
   "cell_type": "code",
   "execution_count": 20,
   "metadata": {
    "execution": {
     "iopub.execute_input": "2020-09-05T06:25:14.160760Z",
     "iopub.status.busy": "2020-09-05T06:25:14.159314Z",
     "iopub.status.idle": "2020-09-05T06:25:17.555979Z",
     "shell.execute_reply": "2020-09-05T06:25:17.555075Z"
    },
    "papermill": {
     "duration": 3.616576,
     "end_time": "2020-09-05T06:25:17.556099",
     "exception": false,
     "start_time": "2020-09-05T06:25:13.939523",
     "status": "completed"
    },
    "tags": []
   },
   "outputs": [
    {
     "name": "stderr",
     "output_type": "stream",
     "text": [
      "2023-01-23 20:40:27.975135: W tensorflow/tsl/framework/cpu_allocator_impl.cc:82] Allocation of 852492288 exceeds 10% of free system memory.\n"
     ]
    },
    {
     "name": "stdout",
     "output_type": "stream",
     "text": [
      "34/34 [==============================] - 84s 2s/step - loss: 1.3507 - accuracy: 0.3026\n"
     ]
    },
    {
     "data": {
      "text/plain": [
       "[1.3506560325622559, 0.3025830388069153]"
      ]
     },
     "execution_count": 20,
     "metadata": {},
     "output_type": "execute_result"
    }
   ],
   "source": [
    "model.evaluate(test_imgs, test_df) "
   ]
  },
  {
   "cell_type": "code",
   "execution_count": null,
   "metadata": {},
   "outputs": [],
   "source": []
  }
 ],
 "metadata": {
  "kernelspec": {
   "display_name": ".fintech",
   "language": "python",
   "name": "python3"
  },
  "language_info": {
   "codemirror_mode": {
    "name": "ipython",
    "version": 3
   },
   "file_extension": ".py",
   "mimetype": "text/x-python",
   "name": "python",
   "nbconvert_exporter": "python",
   "pygments_lexer": "ipython3",
   "version": "3.10.6"
  },
  "papermill": {
   "duration": 732.097849,
   "end_time": "2020-09-05T06:25:19.658944",
   "environment_variables": {},
   "exception": null,
   "input_path": "__notebook__.ipynb",
   "output_path": "__notebook__.ipynb",
   "parameters": {},
   "start_time": "2020-09-05T06:13:07.561095",
   "version": "2.1.0"
  },
  "vscode": {
   "interpreter": {
    "hash": "150fd4eaa6bf0c30d9e55b6cab19febf7641211e0dd976b816ff2ae88afd647f"
   }
  }
 },
 "nbformat": 4,
 "nbformat_minor": 4
}
